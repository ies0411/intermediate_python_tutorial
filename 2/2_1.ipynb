{
  "nbformat": 4,
  "nbformat_minor": 0,
  "metadata": {
    "colab": {
      "provenance": []
    },
    "kernelspec": {
      "name": "python3",
      "display_name": "Python 3"
    },
    "language_info": {
      "name": "python"
    }
  },
  "cells": [
    {
      "cell_type": "code",
      "execution_count": null,
      "metadata": {
        "id": "8OFTyMZYWN1k"
      },
      "outputs": [],
      "source": [
        "a = 100\n",
        "b = 100\n",
        "c = 100\n",
        "d = 100"
      ]
    },
    {
      "cell_type": "code",
      "source": [
        "\n",
        "if id(a) == id(b) == id(c) == id(d):\n",
        "  print(\"same id\")\n",
        "else:\n",
        "  print(\"differenct id\")\n",
        "print(id(a))\n",
        "a=200\n",
        "print(id(a))"
      ],
      "metadata": {
        "colab": {
          "base_uri": "https://localhost:8080/"
        },
        "id": "aaPWjQuC7juO",
        "outputId": "615bae2a-9da1-45ee-c3e0-f3b39f3911ba"
      },
      "execution_count": null,
      "outputs": [
        {
          "output_type": "stream",
          "name": "stdout",
          "text": [
            "same id\n",
            "135145085521232\n",
            "135145085524432\n"
          ]
        }
      ]
    },
    {
      "cell_type": "code",
      "source": [
        "arr_1 = [1,2,3]\n",
        "arr_2 = [1,2,3]\n",
        "arr_3 = [1,2,3]\n",
        "arr_4 = [1,2,3]"
      ],
      "metadata": {
        "id": "w-NUQB_Q-doh"
      },
      "execution_count": null,
      "outputs": []
    },
    {
      "cell_type": "code",
      "source": [
        "\n",
        "if id(arr_1) == id(arr_2) == id(arr_3) == id(arr_4):\n",
        "  print(\"same id\")\n",
        "else:\n",
        "  print(\"differenct id\")\n",
        "print(id(arr_1))\n",
        "arr_1.append(4)\n",
        "print(id(arr_1))"
      ],
      "metadata": {
        "colab": {
          "base_uri": "https://localhost:8080/"
        },
        "id": "VbpOrM4o-mKh",
        "outputId": "a5984139-d2a7-4512-d6c6-831471fcd7eb"
      },
      "execution_count": null,
      "outputs": [
        {
          "output_type": "stream",
          "name": "stdout",
          "text": [
            "differenct id\n",
            "135143804694720\n",
            "135143804694720\n"
          ]
        }
      ]
    },
    {
      "cell_type": "code",
      "source": [
        "arr_1 = [1,2,['a','b'],3]\n",
        "arr_2 = [1,2,['a','b'],3]\n",
        "\n",
        "print(f'arr_1 id : {id(arr_1)}')\n",
        "print(f'arr_2 id : {id(arr_2)}')\n",
        "\n",
        "print(f'arr_1 mutable var id : {id(arr_1[2])}')\n",
        "print(f'arr_2 mutable var id : {id(arr_2[2])}')\n",
        "\n",
        "print(f'arr_1 immutable var id : {id(arr_1[0])}')\n",
        "print(f'arr_2 immutable var id : {id(arr_2[0])}')\n",
        "\n",
        "print(f'arr_1 immutable var id : {id(arr_1[1])}')\n",
        "print(f'arr_2 immutable var id : {id(arr_2[1])}')\n",
        "\n",
        "print(f'arr_1 immutable var id : {id(arr_1[3])}')\n",
        "print(f'arr_2 immutable var id : {id(arr_2[3])}')"
      ],
      "metadata": {
        "colab": {
          "base_uri": "https://localhost:8080/"
        },
        "id": "3Mq2H0UvArHl",
        "outputId": "85d9a30b-f499-4895-f07d-864d61e18633"
      },
      "execution_count": null,
      "outputs": [
        {
          "output_type": "stream",
          "name": "stdout",
          "text": [
            "arr_1 id : 135143805889088\n",
            "arr_2 id : 135143804165312\n",
            "arr_1 mutable var id : 135143805883136\n",
            "arr_2 mutable var id : 135143805826496\n",
            "arr_1 immutable var id : 135145085518064\n",
            "arr_2 immutable var id : 135145085518064\n",
            "arr_1 immutable var id : 135145085518096\n",
            "arr_2 immutable var id : 135145085518096\n",
            "arr_1 immutable var id : 135145085518128\n",
            "arr_2 immutable var id : 135145085518128\n"
          ]
        }
      ]
    },
    {
      "cell_type": "code",
      "source": [
        "arr_1 = [1,2,3]\n",
        "arr_2 = arr_1\n",
        "\n",
        "print(f'arr_1 : {arr_1}')\n",
        "print(f'arr_2 : {arr_2}')\n",
        "\n",
        "print(f'arr_1 id : {id(arr_1)}')\n",
        "print(f'arr_2 id : {id(arr_2)}')\n",
        "\n",
        "arr_2.append(4)\n",
        "print(f'arr_1 : {arr_1}')\n",
        "print(f'arr_2 : {arr_2}')\n",
        "\n",
        "print(f'arr_1 id : {id(arr_1)}')\n",
        "print(f'arr_2 id : {id(arr_2)}')\n",
        "\n"
      ],
      "metadata": {
        "colab": {
          "base_uri": "https://localhost:8080/"
        },
        "id": "2Ls5fy_pEVWm",
        "outputId": "392b683c-7fec-462e-e07c-f04544cec97b"
      },
      "execution_count": null,
      "outputs": [
        {
          "output_type": "stream",
          "name": "stdout",
          "text": [
            "arr_1 : [1, 2, 3]\n",
            "arr_2 : [1, 2, 3]\n",
            "arr_1 id : 135143804925632\n",
            "arr_2 id : 135143804925632\n",
            "arr_1 : [1, 2, 3, 4]\n",
            "arr_2 : [1, 2, 3, 4]\n",
            "arr_1 id : 135143804925632\n",
            "arr_2 id : 135143804925632\n"
          ]
        }
      ]
    },
    {
      "cell_type": "code",
      "source": [
        "a = 1\n",
        "b = a\n",
        "\n",
        "print(f'a : {a}')\n",
        "print(f'b : {b}')\n",
        "\n",
        "print(f'a id : {id(a)}')\n",
        "print(f'b id : {id(b)}')\n",
        "\n",
        "b += 1\n",
        "print(f'a : {a}')\n",
        "print(f'b : {b}')\n",
        "\n",
        "print(f'a id : {id(a)}')\n",
        "print(f'b id : {id(b)}')\n",
        "\n"
      ],
      "metadata": {
        "colab": {
          "base_uri": "https://localhost:8080/"
        },
        "id": "BdqZT8eqLX5J",
        "outputId": "9ed76f9e-464a-4ea5-899a-25c8fa3a0ed4"
      },
      "execution_count": null,
      "outputs": [
        {
          "output_type": "stream",
          "name": "stdout",
          "text": [
            "a : 1\n",
            "b : 1\n",
            "a id : 135145085518064\n",
            "b id : 135145085518064\n",
            "a : 1\n",
            "b : 2\n",
            "a id : 135145085518064\n",
            "b id : 135145085518096\n"
          ]
        }
      ]
    }
  ]
}